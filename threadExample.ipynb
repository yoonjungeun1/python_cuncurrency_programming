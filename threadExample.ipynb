{
 "cells": [
  {
   "cell_type": "code",
   "execution_count": 1,
   "metadata": {},
   "outputs": [],
   "source": [
    "import threading"
   ]
  },
  {
   "cell_type": "code",
   "execution_count": 2,
   "metadata": {},
   "outputs": [],
   "source": [
    "# 스레드 로컬 데이터 객체 생성\n",
    "mydata = threading.local() "
   ]
  },
  {
   "cell_type": "code",
   "execution_count": 3,
   "metadata": {},
   "outputs": [
    {
     "name": "stdout",
     "output_type": "stream",
     "text": [
      "스레드 Thread-1에서 데이터: Thread-1\n",
      "스레드 Thread-2에서 데이터: Thread-2\n"
     ]
    }
   ],
   "source": [
    "def process_data():\n",
    "    # 각 스레드에서 독립적으로 관리되는 값 설정\n",
    "    mydata.value = threading.current_thread().name\n",
    "    print(f\"스레드 {threading.current_thread().name}에서 데이터: {mydata.value}\")\n",
    "\n",
    "# 스레드 두 개 생성\n",
    "t1 = threading.Thread(target=process_data, name=\"Thread-1\")\n",
    "t2 = threading.Thread(target=process_data, name=\"Thread-2\")\n",
    "\n",
    "# 스레드 실행\n",
    "t1.start()\n",
    "t2.start()\n",
    "\n",
    "# 스레드가 끝날 때까지 대기\n",
    "t1.join()\n",
    "t2.join() "
   ]
  },
  {
   "cell_type": "code",
   "execution_count": 4,
   "metadata": {},
   "outputs": [
    {
     "name": "stdout",
     "output_type": "stream",
     "text": [
      "Thread-1 : 1\n",
      "Thread-1 : 2\n",
      "Thread-1 : 3\n",
      "Thread-1 : 4\n",
      "Thread-1 : 5\n",
      "Thread-2 : 1\n",
      "Thread-2 : 2\n",
      "Thread-2 : 3\n",
      "Thread-2 : 4\n",
      "Thread-2 : 5\n"
     ]
    }
   ],
   "source": [
    "# 스레드에서 실행할 함수 정의\n",
    "def print_numbers():\n",
    "    for i in range(1,6):\n",
    "        print(f\"{threading.current_thread().name} : {i}\")\n",
    "\n",
    "t1 = threading.Thread(target=print_numbers, name=\"Thread-1\")\n",
    "t2 = threading.Thread(target=print_numbers, name=\"Thread-2\")\n",
    "\n",
    "t1.start()\n",
    "t2.start()\n",
    "\n",
    "# 스레드가 끝날 때까지 대기\n",
    "t1.join()\n",
    "t2.join() "
   ]
  },
  {
   "cell_type": "code",
   "execution_count": null,
   "metadata": {},
   "outputs": [],
   "source": [
    "import threading\n",
    "import time\n",
    "\n",
    "def background_task():\n",
    "    while True:\n",
    "        print(f\"{threading.current_thread().name}: 작업 수행 중...\")\n",
    "        time.sleep(2)\n",
    "\n",
    "# 데몬 스레드로 설정\n",
    "t = threading.Thread(target=background_task, daemon=True, name=\"DaemonThread\")\n",
    "\n",
    "# 스레드 실행\n",
    "t.start()\n",
    "\n",
    "# 메인 스레드에서 5초 동안 대기한 후 종료\n",
    "time.sleep(5)\n",
    "print(\"메인 스레드 종료\")"
   ]
  }
 ],
 "metadata": {
  "kernelspec": {
   "display_name": "Python 3",
   "language": "python",
   "name": "python3"
  },
  "language_info": {
   "codemirror_mode": {
    "name": "ipython",
    "version": 3
   },
   "file_extension": ".py",
   "mimetype": "text/x-python",
   "name": "python",
   "nbconvert_exporter": "python",
   "pygments_lexer": "ipython3",
   "version": "3.10.5"
  }
 },
 "nbformat": 4,
 "nbformat_minor": 2
}
